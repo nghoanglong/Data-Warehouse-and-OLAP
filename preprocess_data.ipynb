{
 "cells": [
  {
   "cell_type": "markdown",
   "id": "b7d06a08",
   "metadata": {},
   "source": [
    "## Import Libaries"
   ]
  },
  {
   "cell_type": "code",
   "execution_count": 1,
   "id": "57bcf5c1",
   "metadata": {},
   "outputs": [],
   "source": [
    "import pandas as pd\n",
    "import random"
   ]
  },
  {
   "cell_type": "markdown",
   "id": "eb073c6d",
   "metadata": {},
   "source": [
    "## Load dataset"
   ]
  },
  {
   "cell_type": "code",
   "execution_count": 2,
   "id": "2738f674",
   "metadata": {},
   "outputs": [
    {
     "name": "stdout",
     "output_type": "stream",
     "text": [
      "README.md\n",
      "dataset\n",
      "preprocess_data.ipynb\n",
      "report\n"
     ]
    }
   ],
   "source": [
    "!ls"
   ]
  },
  {
   "cell_type": "code",
   "execution_count": 3,
   "id": "2ad2e909",
   "metadata": {},
   "outputs": [
    {
     "name": "stdout",
     "output_type": "stream",
     "text": [
      "marketing_data.csv\n",
      "marketing_data_final.csv\n"
     ]
    }
   ],
   "source": [
    "!ls dataset"
   ]
  },
  {
   "cell_type": "code",
   "execution_count": 4,
   "id": "b057c878",
   "metadata": {},
   "outputs": [
    {
     "data": {
      "text/html": [
       "<div>\n",
       "<style scoped>\n",
       "    .dataframe tbody tr th:only-of-type {\n",
       "        vertical-align: middle;\n",
       "    }\n",
       "\n",
       "    .dataframe tbody tr th {\n",
       "        vertical-align: top;\n",
       "    }\n",
       "\n",
       "    .dataframe thead th {\n",
       "        text-align: right;\n",
       "    }\n",
       "</style>\n",
       "<table border=\"1\" class=\"dataframe\">\n",
       "  <thead>\n",
       "    <tr style=\"text-align: right;\">\n",
       "      <th></th>\n",
       "      <th>ID</th>\n",
       "      <th>Year_Birth</th>\n",
       "      <th>Education</th>\n",
       "      <th>Marital_Status</th>\n",
       "      <th>Income</th>\n",
       "      <th>Kidhome</th>\n",
       "      <th>Teenhome</th>\n",
       "      <th>Dt_Customer</th>\n",
       "      <th>Recency</th>\n",
       "      <th>MntWines</th>\n",
       "      <th>...</th>\n",
       "      <th>NumStorePurchases</th>\n",
       "      <th>NumWebVisitsMonth</th>\n",
       "      <th>AcceptedCmp3</th>\n",
       "      <th>AcceptedCmp4</th>\n",
       "      <th>AcceptedCmp5</th>\n",
       "      <th>AcceptedCmp1</th>\n",
       "      <th>AcceptedCmp2</th>\n",
       "      <th>Response</th>\n",
       "      <th>Complain</th>\n",
       "      <th>Country</th>\n",
       "    </tr>\n",
       "  </thead>\n",
       "  <tbody>\n",
       "    <tr>\n",
       "      <th>0</th>\n",
       "      <td>1826</td>\n",
       "      <td>1970</td>\n",
       "      <td>Graduation</td>\n",
       "      <td>Divorced</td>\n",
       "      <td>$84,835.00</td>\n",
       "      <td>0</td>\n",
       "      <td>0</td>\n",
       "      <td>6/16/2014</td>\n",
       "      <td>0</td>\n",
       "      <td>189</td>\n",
       "      <td>...</td>\n",
       "      <td>6</td>\n",
       "      <td>1</td>\n",
       "      <td>0</td>\n",
       "      <td>0</td>\n",
       "      <td>0</td>\n",
       "      <td>0</td>\n",
       "      <td>0</td>\n",
       "      <td>1</td>\n",
       "      <td>0</td>\n",
       "      <td>SP</td>\n",
       "    </tr>\n",
       "    <tr>\n",
       "      <th>1</th>\n",
       "      <td>1</td>\n",
       "      <td>1961</td>\n",
       "      <td>Graduation</td>\n",
       "      <td>Single</td>\n",
       "      <td>$57,091.00</td>\n",
       "      <td>0</td>\n",
       "      <td>0</td>\n",
       "      <td>6/15/2014</td>\n",
       "      <td>0</td>\n",
       "      <td>464</td>\n",
       "      <td>...</td>\n",
       "      <td>7</td>\n",
       "      <td>5</td>\n",
       "      <td>0</td>\n",
       "      <td>0</td>\n",
       "      <td>0</td>\n",
       "      <td>0</td>\n",
       "      <td>1</td>\n",
       "      <td>1</td>\n",
       "      <td>0</td>\n",
       "      <td>CA</td>\n",
       "    </tr>\n",
       "    <tr>\n",
       "      <th>2</th>\n",
       "      <td>10476</td>\n",
       "      <td>1958</td>\n",
       "      <td>Graduation</td>\n",
       "      <td>Married</td>\n",
       "      <td>$67,267.00</td>\n",
       "      <td>0</td>\n",
       "      <td>1</td>\n",
       "      <td>5/13/2014</td>\n",
       "      <td>0</td>\n",
       "      <td>134</td>\n",
       "      <td>...</td>\n",
       "      <td>5</td>\n",
       "      <td>2</td>\n",
       "      <td>0</td>\n",
       "      <td>0</td>\n",
       "      <td>0</td>\n",
       "      <td>0</td>\n",
       "      <td>0</td>\n",
       "      <td>0</td>\n",
       "      <td>0</td>\n",
       "      <td>US</td>\n",
       "    </tr>\n",
       "    <tr>\n",
       "      <th>3</th>\n",
       "      <td>1386</td>\n",
       "      <td>1967</td>\n",
       "      <td>Graduation</td>\n",
       "      <td>Together</td>\n",
       "      <td>$32,474.00</td>\n",
       "      <td>1</td>\n",
       "      <td>1</td>\n",
       "      <td>5/11/2014</td>\n",
       "      <td>0</td>\n",
       "      <td>10</td>\n",
       "      <td>...</td>\n",
       "      <td>2</td>\n",
       "      <td>7</td>\n",
       "      <td>0</td>\n",
       "      <td>0</td>\n",
       "      <td>0</td>\n",
       "      <td>0</td>\n",
       "      <td>0</td>\n",
       "      <td>0</td>\n",
       "      <td>0</td>\n",
       "      <td>AUS</td>\n",
       "    </tr>\n",
       "    <tr>\n",
       "      <th>4</th>\n",
       "      <td>5371</td>\n",
       "      <td>1989</td>\n",
       "      <td>Graduation</td>\n",
       "      <td>Single</td>\n",
       "      <td>$21,474.00</td>\n",
       "      <td>1</td>\n",
       "      <td>0</td>\n",
       "      <td>4/8/2014</td>\n",
       "      <td>0</td>\n",
       "      <td>6</td>\n",
       "      <td>...</td>\n",
       "      <td>2</td>\n",
       "      <td>7</td>\n",
       "      <td>1</td>\n",
       "      <td>0</td>\n",
       "      <td>0</td>\n",
       "      <td>0</td>\n",
       "      <td>0</td>\n",
       "      <td>1</td>\n",
       "      <td>0</td>\n",
       "      <td>SP</td>\n",
       "    </tr>\n",
       "  </tbody>\n",
       "</table>\n",
       "<p>5 rows × 28 columns</p>\n",
       "</div>"
      ],
      "text/plain": [
       "      ID  Year_Birth   Education Marital_Status      Income   Kidhome  \\\n",
       "0   1826        1970  Graduation       Divorced  $84,835.00         0   \n",
       "1      1        1961  Graduation         Single  $57,091.00         0   \n",
       "2  10476        1958  Graduation        Married  $67,267.00         0   \n",
       "3   1386        1967  Graduation       Together  $32,474.00         1   \n",
       "4   5371        1989  Graduation         Single  $21,474.00         1   \n",
       "\n",
       "   Teenhome Dt_Customer  Recency  MntWines  ...  NumStorePurchases  \\\n",
       "0         0   6/16/2014        0       189  ...                  6   \n",
       "1         0   6/15/2014        0       464  ...                  7   \n",
       "2         1   5/13/2014        0       134  ...                  5   \n",
       "3         1   5/11/2014        0        10  ...                  2   \n",
       "4         0    4/8/2014        0         6  ...                  2   \n",
       "\n",
       "   NumWebVisitsMonth  AcceptedCmp3  AcceptedCmp4  AcceptedCmp5  AcceptedCmp1  \\\n",
       "0                  1             0             0             0             0   \n",
       "1                  5             0             0             0             0   \n",
       "2                  2             0             0             0             0   \n",
       "3                  7             0             0             0             0   \n",
       "4                  7             1             0             0             0   \n",
       "\n",
       "   AcceptedCmp2  Response  Complain  Country  \n",
       "0             0         1         0       SP  \n",
       "1             1         1         0       CA  \n",
       "2             0         0         0       US  \n",
       "3             0         0         0      AUS  \n",
       "4             0         1         0       SP  \n",
       "\n",
       "[5 rows x 28 columns]"
      ]
     },
     "execution_count": 4,
     "metadata": {},
     "output_type": "execute_result"
    }
   ],
   "source": [
    "df = pd.read_csv('dataset/marketing_data.csv')\n",
    "df.head(5)"
   ]
  },
  {
   "cell_type": "code",
   "execution_count": 5,
   "id": "506742a6",
   "metadata": {},
   "outputs": [
    {
     "data": {
      "text/html": [
       "<div>\n",
       "<style scoped>\n",
       "    .dataframe tbody tr th:only-of-type {\n",
       "        vertical-align: middle;\n",
       "    }\n",
       "\n",
       "    .dataframe tbody tr th {\n",
       "        vertical-align: top;\n",
       "    }\n",
       "\n",
       "    .dataframe thead th {\n",
       "        text-align: right;\n",
       "    }\n",
       "</style>\n",
       "<table border=\"1\" class=\"dataframe\">\n",
       "  <thead>\n",
       "    <tr style=\"text-align: right;\">\n",
       "      <th></th>\n",
       "      <th>ID</th>\n",
       "      <th>Year_Birth</th>\n",
       "      <th>Education</th>\n",
       "      <th>Marital_Status</th>\n",
       "      <th>Income</th>\n",
       "      <th>Kidhome</th>\n",
       "      <th>Teenhome</th>\n",
       "      <th>Dt_Customer</th>\n",
       "      <th>Recency</th>\n",
       "      <th>MntWines</th>\n",
       "      <th>...</th>\n",
       "      <th>NumStorePurchases</th>\n",
       "      <th>NumWebVisitsMonth</th>\n",
       "      <th>AcceptedCmp3</th>\n",
       "      <th>AcceptedCmp4</th>\n",
       "      <th>AcceptedCmp5</th>\n",
       "      <th>AcceptedCmp1</th>\n",
       "      <th>AcceptedCmp2</th>\n",
       "      <th>Response</th>\n",
       "      <th>Complain</th>\n",
       "      <th>Country</th>\n",
       "    </tr>\n",
       "  </thead>\n",
       "  <tbody>\n",
       "    <tr>\n",
       "      <th>1503</th>\n",
       "      <td>0</td>\n",
       "      <td>1985</td>\n",
       "      <td>Graduation</td>\n",
       "      <td>Married</td>\n",
       "      <td>$70,951.00</td>\n",
       "      <td>0</td>\n",
       "      <td>0</td>\n",
       "      <td>5/4/2013</td>\n",
       "      <td>66</td>\n",
       "      <td>239</td>\n",
       "      <td>...</td>\n",
       "      <td>9</td>\n",
       "      <td>1</td>\n",
       "      <td>0</td>\n",
       "      <td>0</td>\n",
       "      <td>0</td>\n",
       "      <td>0</td>\n",
       "      <td>0</td>\n",
       "      <td>0</td>\n",
       "      <td>0</td>\n",
       "      <td>SA</td>\n",
       "    </tr>\n",
       "    <tr>\n",
       "      <th>1</th>\n",
       "      <td>1</td>\n",
       "      <td>1961</td>\n",
       "      <td>Graduation</td>\n",
       "      <td>Single</td>\n",
       "      <td>$57,091.00</td>\n",
       "      <td>0</td>\n",
       "      <td>0</td>\n",
       "      <td>6/15/2014</td>\n",
       "      <td>0</td>\n",
       "      <td>464</td>\n",
       "      <td>...</td>\n",
       "      <td>7</td>\n",
       "      <td>5</td>\n",
       "      <td>0</td>\n",
       "      <td>0</td>\n",
       "      <td>0</td>\n",
       "      <td>0</td>\n",
       "      <td>1</td>\n",
       "      <td>1</td>\n",
       "      <td>0</td>\n",
       "      <td>CA</td>\n",
       "    </tr>\n",
       "    <tr>\n",
       "      <th>1956</th>\n",
       "      <td>9</td>\n",
       "      <td>1975</td>\n",
       "      <td>Master</td>\n",
       "      <td>Single</td>\n",
       "      <td>$46,098.00</td>\n",
       "      <td>1</td>\n",
       "      <td>1</td>\n",
       "      <td>8/18/2012</td>\n",
       "      <td>86</td>\n",
       "      <td>57</td>\n",
       "      <td>...</td>\n",
       "      <td>2</td>\n",
       "      <td>8</td>\n",
       "      <td>0</td>\n",
       "      <td>0</td>\n",
       "      <td>0</td>\n",
       "      <td>0</td>\n",
       "      <td>0</td>\n",
       "      <td>0</td>\n",
       "      <td>0</td>\n",
       "      <td>CA</td>\n",
       "    </tr>\n",
       "    <tr>\n",
       "      <th>1311</th>\n",
       "      <td>13</td>\n",
       "      <td>1947</td>\n",
       "      <td>PhD</td>\n",
       "      <td>Widow</td>\n",
       "      <td>$25,358.00</td>\n",
       "      <td>0</td>\n",
       "      <td>1</td>\n",
       "      <td>7/22/2013</td>\n",
       "      <td>57</td>\n",
       "      <td>19</td>\n",
       "      <td>...</td>\n",
       "      <td>3</td>\n",
       "      <td>6</td>\n",
       "      <td>0</td>\n",
       "      <td>0</td>\n",
       "      <td>0</td>\n",
       "      <td>0</td>\n",
       "      <td>0</td>\n",
       "      <td>0</td>\n",
       "      <td>0</td>\n",
       "      <td>SA</td>\n",
       "    </tr>\n",
       "    <tr>\n",
       "      <th>1834</th>\n",
       "      <td>17</td>\n",
       "      <td>1971</td>\n",
       "      <td>PhD</td>\n",
       "      <td>Married</td>\n",
       "      <td>$60,491.00</td>\n",
       "      <td>0</td>\n",
       "      <td>1</td>\n",
       "      <td>9/6/2013</td>\n",
       "      <td>81</td>\n",
       "      <td>637</td>\n",
       "      <td>...</td>\n",
       "      <td>7</td>\n",
       "      <td>5</td>\n",
       "      <td>0</td>\n",
       "      <td>0</td>\n",
       "      <td>0</td>\n",
       "      <td>0</td>\n",
       "      <td>0</td>\n",
       "      <td>0</td>\n",
       "      <td>0</td>\n",
       "      <td>SP</td>\n",
       "    </tr>\n",
       "  </tbody>\n",
       "</table>\n",
       "<p>5 rows × 28 columns</p>\n",
       "</div>"
      ],
      "text/plain": [
       "      ID  Year_Birth   Education Marital_Status      Income   Kidhome  \\\n",
       "1503   0        1985  Graduation        Married  $70,951.00         0   \n",
       "1      1        1961  Graduation         Single  $57,091.00         0   \n",
       "1956   9        1975      Master         Single  $46,098.00         1   \n",
       "1311  13        1947         PhD          Widow  $25,358.00         0   \n",
       "1834  17        1971         PhD        Married  $60,491.00         0   \n",
       "\n",
       "      Teenhome Dt_Customer  Recency  MntWines  ...  NumStorePurchases  \\\n",
       "1503         0    5/4/2013       66       239  ...                  9   \n",
       "1            0   6/15/2014        0       464  ...                  7   \n",
       "1956         1   8/18/2012       86        57  ...                  2   \n",
       "1311         1   7/22/2013       57        19  ...                  3   \n",
       "1834         1    9/6/2013       81       637  ...                  7   \n",
       "\n",
       "      NumWebVisitsMonth  AcceptedCmp3  AcceptedCmp4  AcceptedCmp5  \\\n",
       "1503                  1             0             0             0   \n",
       "1                     5             0             0             0   \n",
       "1956                  8             0             0             0   \n",
       "1311                  6             0             0             0   \n",
       "1834                  5             0             0             0   \n",
       "\n",
       "      AcceptedCmp1  AcceptedCmp2  Response  Complain  Country  \n",
       "1503             0             0         0         0       SA  \n",
       "1                0             1         1         0       CA  \n",
       "1956             0             0         0         0       CA  \n",
       "1311             0             0         0         0       SA  \n",
       "1834             0             0         0         0       SP  \n",
       "\n",
       "[5 rows x 28 columns]"
      ]
     },
     "execution_count": 5,
     "metadata": {},
     "output_type": "execute_result"
    }
   ],
   "source": [
    "df.sort_values(by='ID', inplace=True)\n",
    "df.head(5)"
   ]
  },
  {
   "cell_type": "code",
   "execution_count": 6,
   "id": "1deff0d9",
   "metadata": {},
   "outputs": [
    {
     "name": "stdout",
     "output_type": "stream",
     "text": [
      "<class 'pandas.core.frame.DataFrame'>\n",
      "Int64Index: 2240 entries, 1503 to 261\n",
      "Data columns (total 28 columns):\n",
      " #   Column               Non-Null Count  Dtype \n",
      "---  ------               --------------  ----- \n",
      " 0   ID                   2240 non-null   int64 \n",
      " 1   Year_Birth           2240 non-null   int64 \n",
      " 2   Education            2240 non-null   object\n",
      " 3   Marital_Status       2240 non-null   object\n",
      " 4    Income              2216 non-null   object\n",
      " 5   Kidhome              2240 non-null   int64 \n",
      " 6   Teenhome             2240 non-null   int64 \n",
      " 7   Dt_Customer          2240 non-null   object\n",
      " 8   Recency              2240 non-null   int64 \n",
      " 9   MntWines             2240 non-null   int64 \n",
      " 10  MntFruits            2240 non-null   int64 \n",
      " 11  MntMeatProducts      2240 non-null   int64 \n",
      " 12  MntFishProducts      2240 non-null   int64 \n",
      " 13  MntSweetProducts     2240 non-null   int64 \n",
      " 14  MntGoldProds         2240 non-null   int64 \n",
      " 15  NumDealsPurchases    2240 non-null   int64 \n",
      " 16  NumWebPurchases      2240 non-null   int64 \n",
      " 17  NumCatalogPurchases  2240 non-null   int64 \n",
      " 18  NumStorePurchases    2240 non-null   int64 \n",
      " 19  NumWebVisitsMonth    2240 non-null   int64 \n",
      " 20  AcceptedCmp3         2240 non-null   int64 \n",
      " 21  AcceptedCmp4         2240 non-null   int64 \n",
      " 22  AcceptedCmp5         2240 non-null   int64 \n",
      " 23  AcceptedCmp1         2240 non-null   int64 \n",
      " 24  AcceptedCmp2         2240 non-null   int64 \n",
      " 25  Response             2240 non-null   int64 \n",
      " 26  Complain             2240 non-null   int64 \n",
      " 27  Country              2240 non-null   object\n",
      "dtypes: int64(23), object(5)\n",
      "memory usage: 507.5+ KB\n"
     ]
    }
   ],
   "source": [
    "df.info()"
   ]
  },
  {
   "cell_type": "markdown",
   "id": "c42f5911",
   "metadata": {},
   "source": [
    "Ta thấy số lượng sample là 2240 dòng, riêng cột Income chỉ có 2216 dòng. Ta tiến hành kiểm tra các giá trị **NaN** rồi chọn phương hướng tiếp cận cho số lượng dòng của các cột như nhau"
   ]
  },
  {
   "cell_type": "markdown",
   "id": "7c4ba2be",
   "metadata": {},
   "source": [
    "## Rename Column"
   ]
  },
  {
   "cell_type": "code",
   "execution_count": 7,
   "id": "8846c90f",
   "metadata": {},
   "outputs": [],
   "source": [
    "df.rename(columns={'ID':'User_ID'}, inplace=True)\n",
    "df.rename(columns={' Income ':'Income'}, inplace=True)\n",
    "df.rename(columns={'Dt_Customer': 'Date_added'}, inplace = True)\n",
    "df.rename(columns={'MntGoldProds': 'MntGoldProducts'}, inplace = True)"
   ]
  },
  {
   "cell_type": "code",
   "execution_count": 8,
   "id": "016eb257",
   "metadata": {},
   "outputs": [
    {
     "name": "stdout",
     "output_type": "stream",
     "text": [
      "<class 'pandas.core.frame.DataFrame'>\n",
      "Int64Index: 2240 entries, 1503 to 261\n",
      "Data columns (total 28 columns):\n",
      " #   Column               Non-Null Count  Dtype \n",
      "---  ------               --------------  ----- \n",
      " 0   User_ID              2240 non-null   int64 \n",
      " 1   Year_Birth           2240 non-null   int64 \n",
      " 2   Education            2240 non-null   object\n",
      " 3   Marital_Status       2240 non-null   object\n",
      " 4   Income               2216 non-null   object\n",
      " 5   Kidhome              2240 non-null   int64 \n",
      " 6   Teenhome             2240 non-null   int64 \n",
      " 7   Date_added           2240 non-null   object\n",
      " 8   Recency              2240 non-null   int64 \n",
      " 9   MntWines             2240 non-null   int64 \n",
      " 10  MntFruits            2240 non-null   int64 \n",
      " 11  MntMeatProducts      2240 non-null   int64 \n",
      " 12  MntFishProducts      2240 non-null   int64 \n",
      " 13  MntSweetProducts     2240 non-null   int64 \n",
      " 14  MntGoldProducts      2240 non-null   int64 \n",
      " 15  NumDealsPurchases    2240 non-null   int64 \n",
      " 16  NumWebPurchases      2240 non-null   int64 \n",
      " 17  NumCatalogPurchases  2240 non-null   int64 \n",
      " 18  NumStorePurchases    2240 non-null   int64 \n",
      " 19  NumWebVisitsMonth    2240 non-null   int64 \n",
      " 20  AcceptedCmp3         2240 non-null   int64 \n",
      " 21  AcceptedCmp4         2240 non-null   int64 \n",
      " 22  AcceptedCmp5         2240 non-null   int64 \n",
      " 23  AcceptedCmp1         2240 non-null   int64 \n",
      " 24  AcceptedCmp2         2240 non-null   int64 \n",
      " 25  Response             2240 non-null   int64 \n",
      " 26  Complain             2240 non-null   int64 \n",
      " 27  Country              2240 non-null   object\n",
      "dtypes: int64(23), object(5)\n",
      "memory usage: 507.5+ KB\n"
     ]
    }
   ],
   "source": [
    "df.info()"
   ]
  },
  {
   "cell_type": "markdown",
   "id": "d332193e",
   "metadata": {},
   "source": [
    "## Categorical value column Country"
   ]
  },
  {
   "cell_type": "code",
   "execution_count": 9,
   "id": "11959dc6",
   "metadata": {},
   "outputs": [
    {
     "data": {
      "text/plain": [
       "array(['SA', 'CA', 'SP', 'GER', 'IND', 'US', 'AUS', 'ME'], dtype=object)"
      ]
     },
     "execution_count": 9,
     "metadata": {},
     "output_type": "execute_result"
    }
   ],
   "source": [
    "df['Country'].unique()"
   ]
  },
  {
   "cell_type": "code",
   "execution_count": 10,
   "id": "cc8ca665",
   "metadata": {},
   "outputs": [],
   "source": [
    "value_to_replace = {'SA': 'South Africa', \n",
    "                    'CA': 'Canada', \n",
    "                    'SP': 'Spain', \n",
    "                    'GER': 'Germany', \n",
    "                    'IND': 'India', \n",
    "                    'US': 'United States',\n",
    "                    'AUS': 'Australia',\n",
    "                   'ME': 'Montenegro'}\n",
    "df['Country'].replace(value_to_replace, inplace=True)"
   ]
  },
  {
   "cell_type": "code",
   "execution_count": 11,
   "id": "a0e0fe29",
   "metadata": {},
   "outputs": [
    {
     "data": {
      "text/plain": [
       "1503    South Africa\n",
       "1             Canada\n",
       "1956          Canada\n",
       "1311    South Africa\n",
       "1834           Spain\n",
       "Name: Country, dtype: object"
      ]
     },
     "execution_count": 11,
     "metadata": {},
     "output_type": "execute_result"
    }
   ],
   "source": [
    "df['Country'].head(5)"
   ]
  },
  {
   "cell_type": "markdown",
   "id": "6e9cb97d",
   "metadata": {},
   "source": [
    "## Format datatime\n",
    "Ta cần chuyển cột **Dt_Customer** về dạng Datatime theo format **yyyymmdd**"
   ]
  },
  {
   "cell_type": "code",
   "execution_count": 12,
   "id": "22042fd0",
   "metadata": {},
   "outputs": [
    {
     "data": {
      "text/plain": [
       "1503   2013-05-04\n",
       "1      2014-06-15\n",
       "1956   2012-08-18\n",
       "1311   2013-07-22\n",
       "1834   2013-09-06\n",
       "Name: Date_added, dtype: datetime64[ns]"
      ]
     },
     "execution_count": 12,
     "metadata": {},
     "output_type": "execute_result"
    }
   ],
   "source": [
    "df['Date_added'] = pd.to_datetime(df['Date_added'])\n",
    "df['Date_added'].head(5)"
   ]
  },
  {
   "cell_type": "markdown",
   "id": "ab6943dc",
   "metadata": {},
   "source": [
    "## Xử lý dữ liệu NaN\n",
    "Tiến hành kiểm tra dữ liệu NaN cột Income và xử lý theo một trong những cách sau đây:\n",
    "1. Drop tất cả những dòng mang dữ liệu NaN\n",
    "2. Thế tất cả những dữ liệu NaN bằng mean dữ liệu\n",
    "\n",
    "Nhóm mình quyết định sẽ xử lý theo cách thứ nhất để đảm bảo tính nguyên thủy cho dữ liệu"
   ]
  },
  {
   "cell_type": "code",
   "execution_count": 13,
   "id": "7aac8fa4",
   "metadata": {},
   "outputs": [
    {
     "name": "stderr",
     "output_type": "stream",
     "text": [
      "C:\\Users\\NGHOAN~1\\AppData\\Local\\Temp/ipykernel_3452/3242172660.py:2: FutureWarning: The default value of regex will change from True to False in a future version. In addition, single character regular expressions will *not* be treated as literal strings when regex=True.\n",
      "  df[\"Income\"] = df[\"Income\"].str.replace(\"$\",\"\").str.replace(',', '')\n"
     ]
    }
   ],
   "source": [
    "# Chuyển đổi kiểu dữ liệu cột income\n",
    "df[\"Income\"] = df[\"Income\"].str.replace(\"$\",\"\").str.replace(',', '')\n",
    "df[\"Income\"] = df[\"Income\"].astype(float)"
   ]
  },
  {
   "cell_type": "code",
   "execution_count": 14,
   "id": "b771b620",
   "metadata": {},
   "outputs": [
    {
     "data": {
      "text/plain": [
       "1503    70951.0\n",
       "1       57091.0\n",
       "1956    46098.0\n",
       "1311    25358.0\n",
       "1834    60491.0\n",
       "Name: Income, dtype: float64"
      ]
     },
     "execution_count": 14,
     "metadata": {},
     "output_type": "execute_result"
    }
   ],
   "source": [
    "df['Income'].head(5)"
   ]
  },
  {
   "cell_type": "code",
   "execution_count": 15,
   "id": "f747d045",
   "metadata": {},
   "outputs": [
    {
     "data": {
      "text/plain": [
       "24"
      ]
     },
     "execution_count": 15,
     "metadata": {},
     "output_type": "execute_result"
    }
   ],
   "source": [
    "# Kiểm tra số lượng NaN value của cột Income\n",
    "df['Income'].isna().sum()"
   ]
  },
  {
   "cell_type": "code",
   "execution_count": 16,
   "id": "7cf66670",
   "metadata": {},
   "outputs": [],
   "source": [
    "# Loại bỏ tất cả các dòng có chứa dữ liệu NaN\n",
    "df.dropna(axis='index', how='any', inplace=True)"
   ]
  },
  {
   "cell_type": "code",
   "execution_count": 17,
   "id": "61f92bf9",
   "metadata": {},
   "outputs": [
    {
     "name": "stdout",
     "output_type": "stream",
     "text": [
      "<class 'pandas.core.frame.DataFrame'>\n",
      "Int64Index: 2216 entries, 1503 to 261\n",
      "Data columns (total 28 columns):\n",
      " #   Column               Non-Null Count  Dtype         \n",
      "---  ------               --------------  -----         \n",
      " 0   User_ID              2216 non-null   int64         \n",
      " 1   Year_Birth           2216 non-null   int64         \n",
      " 2   Education            2216 non-null   object        \n",
      " 3   Marital_Status       2216 non-null   object        \n",
      " 4   Income               2216 non-null   float64       \n",
      " 5   Kidhome              2216 non-null   int64         \n",
      " 6   Teenhome             2216 non-null   int64         \n",
      " 7   Date_added           2216 non-null   datetime64[ns]\n",
      " 8   Recency              2216 non-null   int64         \n",
      " 9   MntWines             2216 non-null   int64         \n",
      " 10  MntFruits            2216 non-null   int64         \n",
      " 11  MntMeatProducts      2216 non-null   int64         \n",
      " 12  MntFishProducts      2216 non-null   int64         \n",
      " 13  MntSweetProducts     2216 non-null   int64         \n",
      " 14  MntGoldProducts      2216 non-null   int64         \n",
      " 15  NumDealsPurchases    2216 non-null   int64         \n",
      " 16  NumWebPurchases      2216 non-null   int64         \n",
      " 17  NumCatalogPurchases  2216 non-null   int64         \n",
      " 18  NumStorePurchases    2216 non-null   int64         \n",
      " 19  NumWebVisitsMonth    2216 non-null   int64         \n",
      " 20  AcceptedCmp3         2216 non-null   int64         \n",
      " 21  AcceptedCmp4         2216 non-null   int64         \n",
      " 22  AcceptedCmp5         2216 non-null   int64         \n",
      " 23  AcceptedCmp1         2216 non-null   int64         \n",
      " 24  AcceptedCmp2         2216 non-null   int64         \n",
      " 25  Response             2216 non-null   int64         \n",
      " 26  Complain             2216 non-null   int64         \n",
      " 27  Country              2216 non-null   object        \n",
      "dtypes: datetime64[ns](1), float64(1), int64(23), object(3)\n",
      "memory usage: 502.1+ KB\n"
     ]
    }
   ],
   "source": [
    "# Kiểm tra\n",
    "df.info()"
   ]
  },
  {
   "cell_type": "markdown",
   "id": "03c289bd",
   "metadata": {},
   "source": [
    "Ta thấy 24 dòng mang giá trị **NaN** đã được loại bỏ, dữ liệu còn lại tổng cộng 2216 dòng và 28 column"
   ]
  },
  {
   "cell_type": "markdown",
   "id": "c5db67df",
   "metadata": {},
   "source": [
    "## Add new features\n",
    "Sau khi trải qua các bước làm sạch dữ liệu, ta sẽ cần thêm vào những cột cần thiết để thiết kế data warehouse"
   ]
  },
  {
   "cell_type": "code",
   "execution_count": 18,
   "id": "9b4c0217",
   "metadata": {},
   "outputs": [],
   "source": [
    "# Thêm cột total_campaign_accepted: tổng số lượng marketing campaign đã chấp nhận\n",
    "campaigns_cols = [col for col in df.columns if 'Cmp' in col] + ['Response']\n",
    "df['Total_Campaigns_Accepted'] = df[campaigns_cols].sum(axis=1)"
   ]
  },
  {
   "cell_type": "code",
   "execution_count": 19,
   "id": "4a811bc0",
   "metadata": {},
   "outputs": [],
   "source": [
    "# Làm mịn dữ liệu về datetime\n",
    "df['Year_added'] = pd.DatetimeIndex(df['Date_added']).year\n",
    "df['Month_added'] = pd.DatetimeIndex(df['Date_added']).month\n",
    "df['Day_added'] = pd.DatetimeIndex(df['Date_added']).day"
   ]
  },
  {
   "cell_type": "code",
   "execution_count": 20,
   "id": "471bf461",
   "metadata": {
    "scrolled": true
   },
   "outputs": [
    {
     "name": "stdout",
     "output_type": "stream",
     "text": [
      "<class 'pandas.core.frame.DataFrame'>\n",
      "Int64Index: 2216 entries, 1503 to 261\n",
      "Data columns (total 32 columns):\n",
      " #   Column                    Non-Null Count  Dtype         \n",
      "---  ------                    --------------  -----         \n",
      " 0   User_ID                   2216 non-null   int64         \n",
      " 1   Year_Birth                2216 non-null   int64         \n",
      " 2   Education                 2216 non-null   object        \n",
      " 3   Marital_Status            2216 non-null   object        \n",
      " 4   Income                    2216 non-null   float64       \n",
      " 5   Kidhome                   2216 non-null   int64         \n",
      " 6   Teenhome                  2216 non-null   int64         \n",
      " 7   Date_added                2216 non-null   datetime64[ns]\n",
      " 8   Recency                   2216 non-null   int64         \n",
      " 9   MntWines                  2216 non-null   int64         \n",
      " 10  MntFruits                 2216 non-null   int64         \n",
      " 11  MntMeatProducts           2216 non-null   int64         \n",
      " 12  MntFishProducts           2216 non-null   int64         \n",
      " 13  MntSweetProducts          2216 non-null   int64         \n",
      " 14  MntGoldProducts           2216 non-null   int64         \n",
      " 15  NumDealsPurchases         2216 non-null   int64         \n",
      " 16  NumWebPurchases           2216 non-null   int64         \n",
      " 17  NumCatalogPurchases       2216 non-null   int64         \n",
      " 18  NumStorePurchases         2216 non-null   int64         \n",
      " 19  NumWebVisitsMonth         2216 non-null   int64         \n",
      " 20  AcceptedCmp3              2216 non-null   int64         \n",
      " 21  AcceptedCmp4              2216 non-null   int64         \n",
      " 22  AcceptedCmp5              2216 non-null   int64         \n",
      " 23  AcceptedCmp1              2216 non-null   int64         \n",
      " 24  AcceptedCmp2              2216 non-null   int64         \n",
      " 25  Response                  2216 non-null   int64         \n",
      " 26  Complain                  2216 non-null   int64         \n",
      " 27  Country                   2216 non-null   object        \n",
      " 28  Total_Campaigns_Accepted  2216 non-null   int64         \n",
      " 29  Year_added                2216 non-null   int64         \n",
      " 30  Month_added               2216 non-null   int64         \n",
      " 31  Day_added                 2216 non-null   int64         \n",
      "dtypes: datetime64[ns](1), float64(1), int64(27), object(3)\n",
      "memory usage: 571.3+ KB\n"
     ]
    }
   ],
   "source": [
    "df.info()"
   ]
  },
  {
   "cell_type": "markdown",
   "id": "5a33ecf3",
   "metadata": {},
   "source": [
    "## Remove unnecessary columns "
   ]
  },
  {
   "cell_type": "code",
   "execution_count": 25,
   "id": "1cfd541b",
   "metadata": {},
   "outputs": [],
   "source": [
    "df.drop(columns = ['AcceptedCmp1'], inplace = True)\n",
    "df.drop(columns = ['AcceptedCmp2'], inplace = True)\n",
    "df.drop(columns = ['AcceptedCmp3'], inplace = True)\n",
    "df.drop(columns = ['AcceptedCmp4'], inplace = True)\n",
    "df.drop(columns = ['AcceptedCmp5'], inplace = True)"
   ]
  },
  {
   "cell_type": "markdown",
   "id": "68798885",
   "metadata": {},
   "source": [
    "## Generate key\n",
    "Generate key cho các bảng dimension"
   ]
  },
  {
   "cell_type": "code",
   "execution_count": 27,
   "id": "ccb96cd3",
   "metadata": {},
   "outputs": [],
   "source": [
    "# Date_ID\n",
    "df['Date_ID'] = df.apply(lambda x: str(x['Year_added']) + str(x['Month_added']) + str(x['Day_added']), axis=1)"
   ]
  },
  {
   "cell_type": "code",
   "execution_count": 28,
   "id": "f1c02f49",
   "metadata": {},
   "outputs": [
    {
     "name": "stdout",
     "output_type": "stream",
     "text": [
      "<class 'pandas.core.frame.DataFrame'>\n",
      "Int64Index: 2216 entries, 1503 to 261\n",
      "Data columns (total 28 columns):\n",
      " #   Column                    Non-Null Count  Dtype         \n",
      "---  ------                    --------------  -----         \n",
      " 0   User_ID                   2216 non-null   int64         \n",
      " 1   Year_Birth                2216 non-null   int64         \n",
      " 2   Education                 2216 non-null   object        \n",
      " 3   Marital_Status            2216 non-null   object        \n",
      " 4   Income                    2216 non-null   float64       \n",
      " 5   Kidhome                   2216 non-null   int64         \n",
      " 6   Teenhome                  2216 non-null   int64         \n",
      " 7   Date_added                2216 non-null   datetime64[ns]\n",
      " 8   Recency                   2216 non-null   int64         \n",
      " 9   MntWines                  2216 non-null   int64         \n",
      " 10  MntFruits                 2216 non-null   int64         \n",
      " 11  MntMeatProducts           2216 non-null   int64         \n",
      " 12  MntFishProducts           2216 non-null   int64         \n",
      " 13  MntSweetProducts          2216 non-null   int64         \n",
      " 14  MntGoldProducts           2216 non-null   int64         \n",
      " 15  NumDealsPurchases         2216 non-null   int64         \n",
      " 16  NumWebPurchases           2216 non-null   int64         \n",
      " 17  NumCatalogPurchases       2216 non-null   int64         \n",
      " 18  NumStorePurchases         2216 non-null   int64         \n",
      " 19  NumWebVisitsMonth         2216 non-null   int64         \n",
      " 20  Response                  2216 non-null   int64         \n",
      " 21  Complain                  2216 non-null   int64         \n",
      " 22  Country                   2216 non-null   object        \n",
      " 23  Total_Campaigns_Accepted  2216 non-null   int64         \n",
      " 24  Year_added                2216 non-null   int64         \n",
      " 25  Month_added               2216 non-null   int64         \n",
      " 26  Day_added                 2216 non-null   int64         \n",
      " 27  Date_ID                   2216 non-null   object        \n",
      "dtypes: datetime64[ns](1), float64(1), int64(22), object(4)\n",
      "memory usage: 502.1+ KB\n"
     ]
    }
   ],
   "source": [
    "df.info()"
   ]
  },
  {
   "cell_type": "markdown",
   "id": "58eaba16",
   "metadata": {},
   "source": [
    "## Result\n",
    "Dữ liệu sau khi được xử lý bao gồm 38 cột và 2216 dòng"
   ]
  },
  {
   "cell_type": "code",
   "execution_count": 29,
   "id": "e5f51fff",
   "metadata": {},
   "outputs": [
    {
     "data": {
      "text/html": [
       "<div>\n",
       "<style scoped>\n",
       "    .dataframe tbody tr th:only-of-type {\n",
       "        vertical-align: middle;\n",
       "    }\n",
       "\n",
       "    .dataframe tbody tr th {\n",
       "        vertical-align: top;\n",
       "    }\n",
       "\n",
       "    .dataframe thead th {\n",
       "        text-align: right;\n",
       "    }\n",
       "</style>\n",
       "<table border=\"1\" class=\"dataframe\">\n",
       "  <thead>\n",
       "    <tr style=\"text-align: right;\">\n",
       "      <th></th>\n",
       "      <th>User_ID</th>\n",
       "      <th>Year_Birth</th>\n",
       "      <th>Education</th>\n",
       "      <th>Marital_Status</th>\n",
       "      <th>Income</th>\n",
       "      <th>Kidhome</th>\n",
       "      <th>Teenhome</th>\n",
       "      <th>Date_added</th>\n",
       "      <th>Recency</th>\n",
       "      <th>MntWines</th>\n",
       "      <th>...</th>\n",
       "      <th>NumStorePurchases</th>\n",
       "      <th>NumWebVisitsMonth</th>\n",
       "      <th>Response</th>\n",
       "      <th>Complain</th>\n",
       "      <th>Country</th>\n",
       "      <th>Total_Campaigns_Accepted</th>\n",
       "      <th>Year_added</th>\n",
       "      <th>Month_added</th>\n",
       "      <th>Day_added</th>\n",
       "      <th>Date_ID</th>\n",
       "    </tr>\n",
       "  </thead>\n",
       "  <tbody>\n",
       "    <tr>\n",
       "      <th>1503</th>\n",
       "      <td>0</td>\n",
       "      <td>1985</td>\n",
       "      <td>Graduation</td>\n",
       "      <td>Married</td>\n",
       "      <td>70951.0</td>\n",
       "      <td>0</td>\n",
       "      <td>0</td>\n",
       "      <td>2013-05-04</td>\n",
       "      <td>66</td>\n",
       "      <td>239</td>\n",
       "      <td>...</td>\n",
       "      <td>9</td>\n",
       "      <td>1</td>\n",
       "      <td>0</td>\n",
       "      <td>0</td>\n",
       "      <td>South Africa</td>\n",
       "      <td>0</td>\n",
       "      <td>2013</td>\n",
       "      <td>5</td>\n",
       "      <td>4</td>\n",
       "      <td>201354</td>\n",
       "    </tr>\n",
       "    <tr>\n",
       "      <th>1</th>\n",
       "      <td>1</td>\n",
       "      <td>1961</td>\n",
       "      <td>Graduation</td>\n",
       "      <td>Single</td>\n",
       "      <td>57091.0</td>\n",
       "      <td>0</td>\n",
       "      <td>0</td>\n",
       "      <td>2014-06-15</td>\n",
       "      <td>0</td>\n",
       "      <td>464</td>\n",
       "      <td>...</td>\n",
       "      <td>7</td>\n",
       "      <td>5</td>\n",
       "      <td>1</td>\n",
       "      <td>0</td>\n",
       "      <td>Canada</td>\n",
       "      <td>2</td>\n",
       "      <td>2014</td>\n",
       "      <td>6</td>\n",
       "      <td>15</td>\n",
       "      <td>2014615</td>\n",
       "    </tr>\n",
       "    <tr>\n",
       "      <th>1956</th>\n",
       "      <td>9</td>\n",
       "      <td>1975</td>\n",
       "      <td>Master</td>\n",
       "      <td>Single</td>\n",
       "      <td>46098.0</td>\n",
       "      <td>1</td>\n",
       "      <td>1</td>\n",
       "      <td>2012-08-18</td>\n",
       "      <td>86</td>\n",
       "      <td>57</td>\n",
       "      <td>...</td>\n",
       "      <td>2</td>\n",
       "      <td>8</td>\n",
       "      <td>0</td>\n",
       "      <td>0</td>\n",
       "      <td>Canada</td>\n",
       "      <td>0</td>\n",
       "      <td>2012</td>\n",
       "      <td>8</td>\n",
       "      <td>18</td>\n",
       "      <td>2012818</td>\n",
       "    </tr>\n",
       "    <tr>\n",
       "      <th>1311</th>\n",
       "      <td>13</td>\n",
       "      <td>1947</td>\n",
       "      <td>PhD</td>\n",
       "      <td>Widow</td>\n",
       "      <td>25358.0</td>\n",
       "      <td>0</td>\n",
       "      <td>1</td>\n",
       "      <td>2013-07-22</td>\n",
       "      <td>57</td>\n",
       "      <td>19</td>\n",
       "      <td>...</td>\n",
       "      <td>3</td>\n",
       "      <td>6</td>\n",
       "      <td>0</td>\n",
       "      <td>0</td>\n",
       "      <td>South Africa</td>\n",
       "      <td>0</td>\n",
       "      <td>2013</td>\n",
       "      <td>7</td>\n",
       "      <td>22</td>\n",
       "      <td>2013722</td>\n",
       "    </tr>\n",
       "    <tr>\n",
       "      <th>1834</th>\n",
       "      <td>17</td>\n",
       "      <td>1971</td>\n",
       "      <td>PhD</td>\n",
       "      <td>Married</td>\n",
       "      <td>60491.0</td>\n",
       "      <td>0</td>\n",
       "      <td>1</td>\n",
       "      <td>2013-09-06</td>\n",
       "      <td>81</td>\n",
       "      <td>637</td>\n",
       "      <td>...</td>\n",
       "      <td>7</td>\n",
       "      <td>5</td>\n",
       "      <td>0</td>\n",
       "      <td>0</td>\n",
       "      <td>Spain</td>\n",
       "      <td>0</td>\n",
       "      <td>2013</td>\n",
       "      <td>9</td>\n",
       "      <td>6</td>\n",
       "      <td>201396</td>\n",
       "    </tr>\n",
       "  </tbody>\n",
       "</table>\n",
       "<p>5 rows × 28 columns</p>\n",
       "</div>"
      ],
      "text/plain": [
       "      User_ID  Year_Birth   Education Marital_Status   Income  Kidhome  \\\n",
       "1503        0        1985  Graduation        Married  70951.0        0   \n",
       "1           1        1961  Graduation         Single  57091.0        0   \n",
       "1956        9        1975      Master         Single  46098.0        1   \n",
       "1311       13        1947         PhD          Widow  25358.0        0   \n",
       "1834       17        1971         PhD        Married  60491.0        0   \n",
       "\n",
       "      Teenhome Date_added  Recency  MntWines  ...  NumStorePurchases  \\\n",
       "1503         0 2013-05-04       66       239  ...                  9   \n",
       "1            0 2014-06-15        0       464  ...                  7   \n",
       "1956         1 2012-08-18       86        57  ...                  2   \n",
       "1311         1 2013-07-22       57        19  ...                  3   \n",
       "1834         1 2013-09-06       81       637  ...                  7   \n",
       "\n",
       "      NumWebVisitsMonth  Response  Complain       Country  \\\n",
       "1503                  1         0         0  South Africa   \n",
       "1                     5         1         0        Canada   \n",
       "1956                  8         0         0        Canada   \n",
       "1311                  6         0         0  South Africa   \n",
       "1834                  5         0         0         Spain   \n",
       "\n",
       "      Total_Campaigns_Accepted  Year_added  Month_added  Day_added  Date_ID  \n",
       "1503                         0        2013            5          4   201354  \n",
       "1                            2        2014            6         15  2014615  \n",
       "1956                         0        2012            8         18  2012818  \n",
       "1311                         0        2013            7         22  2013722  \n",
       "1834                         0        2013            9          6   201396  \n",
       "\n",
       "[5 rows x 28 columns]"
      ]
     },
     "execution_count": 29,
     "metadata": {},
     "output_type": "execute_result"
    }
   ],
   "source": [
    "df.head(5)"
   ]
  },
  {
   "cell_type": "code",
   "execution_count": 30,
   "id": "70e8fdb3",
   "metadata": {},
   "outputs": [],
   "source": [
    "# lưu vào file csv\n",
    "df.to_csv('dataset/marketing_data_final.csv')"
   ]
  }
 ],
 "metadata": {
  "kernelspec": {
   "display_name": "Python 3 (ipykernel)",
   "language": "python",
   "name": "python3"
  },
  "language_info": {
   "codemirror_mode": {
    "name": "ipython",
    "version": 3
   },
   "file_extension": ".py",
   "mimetype": "text/x-python",
   "name": "python",
   "nbconvert_exporter": "python",
   "pygments_lexer": "ipython3",
   "version": "3.9.6"
  }
 },
 "nbformat": 4,
 "nbformat_minor": 5
}
